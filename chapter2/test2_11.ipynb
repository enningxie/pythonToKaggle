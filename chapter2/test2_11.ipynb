{
 "cells": [
  {
   "cell_type": "markdown",
   "metadata": {},
   "source": [
    "# 无监督学习模型\n",
    "\n",
    "## 数据聚类"
   ]
  },
  {
   "cell_type": "markdown",
   "metadata": {},
   "source": [
    "### K均值算法（k-means）"
   ]
  },
  {
   "cell_type": "markdown",
   "metadata": {},
   "source": [
    "使用数据集：\"http://archive.ics.uci.edu/ml/machine-learning-databases/optdigits/\""
   ]
  },
  {
   "cell_type": "markdown",
   "metadata": {},
   "source": [
    "完整的手写数字图像数据"
   ]
  },
  {
   "cell_type": "code",
   "execution_count": 4,
   "metadata": {
    "collapsed": true
   },
   "outputs": [],
   "source": [
    "# 获取数据，并进行处理\n",
    "import numpy as np\n",
    "import matplotlib.pyplot as plt\n",
    "import pandas as pd\n",
    "\n",
    "digits_train = pd.read_csv(\"./optdigits.tra\", header=None)\n",
    "digits_test = pd.read_csv(\"./optdigits.tes\", header=None)\n",
    "\n",
    "x_train = digits_train[np.arange(64)]\n",
    "y_train = digits_train[64]\n",
    "\n",
    "x_test = digits_test[np.arange(64)]\n",
    "y_test = digits_test[64]"
   ]
  },
  {
   "cell_type": "code",
   "execution_count": 7,
   "metadata": {},
   "outputs": [],
   "source": [
    "# 初始化KMeans模型，并设置聚类中心数量为10.\n",
    "from sklearn.cluster import KMeans\n",
    "kmeans = KMeans(n_clusters=10)\n",
    "kmeans.fit(x_train)\n",
    "\n",
    "y_pred = kmeans.predict(x_test)"
   ]
  },
  {
   "cell_type": "markdown",
   "metadata": {},
   "source": [
    "**性能测评：**有关聚类算法性能的评估，如果用来评估的数据本身带有正确的类别信息，就可以用`Adjusted Rand Index(ARI)`。ARI指标与分类问题中计算准确性（Accuracy）的方法类似，同时也兼顾到了类簇无法和分类标记一一对应的问题。"
   ]
  },
  {
   "cell_type": "code",
   "execution_count": 9,
   "metadata": {},
   "outputs": [
    {
     "name": "stdout",
     "output_type": "stream",
     "text": [
      "0.672206023021\n"
     ]
    }
   ],
   "source": [
    "# 使用ARI进行K-means聚类性能评估\n",
    "from sklearn import metrics\n",
    "print metrics.adjusted_rand_score(y_test, y_pred)"
   ]
  },
  {
   "cell_type": "markdown",
   "metadata": {},
   "source": [
    "接上述性能测评，如果被用于评估的数据没有所属类别，那么我们习惯使用轮廓系数（Sillhouette Coefficient）来度量聚类结果的质量。轮廓系数同时兼顾了聚类的凝聚度（Cohesion）和分离度（Separation），用于评估聚类的效果并且取值范围为[-1, 1]。轮廓系数值越大，表示聚类的效果越好。"
   ]
  },
  {
   "cell_type": "markdown",
   "metadata": {},
   "source": [
    "**特点分析：**K-means聚类模型锁采用的迭代式算法，直观易懂并非常实用，只是有两大缺陷：1. 容易收敛到局部最优解；2. 需要预先设定簇的数量。"
   ]
  }
 ],
 "metadata": {
  "kernelspec": {
   "display_name": "Python 2",
   "language": "python",
   "name": "python2"
  },
  "language_info": {
   "codemirror_mode": {
    "name": "ipython",
    "version": 2
   },
   "file_extension": ".py",
   "mimetype": "text/x-python",
   "name": "python",
   "nbconvert_exporter": "python",
   "pygments_lexer": "ipython2",
   "version": "2.7.13"
  }
 },
 "nbformat": 4,
 "nbformat_minor": 2
}
