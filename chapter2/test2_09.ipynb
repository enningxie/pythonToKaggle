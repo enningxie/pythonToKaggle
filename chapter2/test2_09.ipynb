{
 "cells": [
  {
   "cell_type": "markdown",
   "metadata": {},
   "source": [
    "# K近邻（回归）"
   ]
  },
  {
   "cell_type": "markdown",
   "metadata": {},
   "source": [
    "使用k近邻回归对Boston房价进行预测。"
   ]
  },
  {
   "cell_type": "code",
   "execution_count": 1,
   "metadata": {},
   "outputs": [
    {
     "name": "stdout",
     "output_type": "stream",
     "text": [
      "(506L, 13L)\n",
      "(506L,)\n"
     ]
    }
   ],
   "source": [
    "# 数据导入\n",
    "from sklearn.datasets import load_boston\n",
    "boston = load_boston()\n",
    "print boston.data.shape\n",
    "print boston.target.shape"
   ]
  },
  {
   "cell_type": "code",
   "execution_count": 2,
   "metadata": {},
   "outputs": [
    {
     "name": "stderr",
     "output_type": "stream",
     "text": [
      "D:\\Coolixz\\Anaconda3\\envs\\python2\\lib\\site-packages\\sklearn\\preprocessing\\data.py:586: DeprecationWarning: Passing 1d arrays as data is deprecated in 0.17 and will raise ValueError in 0.19. Reshape your data either using X.reshape(-1, 1) if your data has a single feature or X.reshape(1, -1) if it contains a single sample.\n",
      "  warnings.warn(DEPRECATION_MSG_1D, DeprecationWarning)\n",
      "D:\\Coolixz\\Anaconda3\\envs\\python2\\lib\\site-packages\\sklearn\\preprocessing\\data.py:649: DeprecationWarning: Passing 1d arrays as data is deprecated in 0.17 and will raise ValueError in 0.19. Reshape your data either using X.reshape(-1, 1) if your data has a single feature or X.reshape(1, -1) if it contains a single sample.\n",
      "  warnings.warn(DEPRECATION_MSG_1D, DeprecationWarning)\n"
     ]
    }
   ],
   "source": [
    "# 数据标准化\n",
    "from sklearn.preprocessing import StandardScaler\n",
    "ss_x = StandardScaler()\n",
    "ss_y = StandardScaler()\n",
    "x = ss_x.fit_transform(boston.data)\n",
    "y = ss_y.fit_transform(boston.target)"
   ]
  },
  {
   "cell_type": "code",
   "execution_count": 3,
   "metadata": {
    "collapsed": true
   },
   "outputs": [],
   "source": [
    "# 数据集切分\n",
    "from sklearn.cross_validation import train_test_split\n",
    "x_train, x_test, y_train, y_test = train_test_split(x, y, test_size=0.25, random_state=33)"
   ]
  },
  {
   "cell_type": "code",
   "execution_count": 4,
   "metadata": {
    "collapsed": true
   },
   "outputs": [],
   "source": [
    "# 导入模型\n",
    "from sklearn.neighbors import KNeighborsRegressor\n",
    "\n",
    "# 平均回归\n",
    "uni_knr = KNeighborsRegressor(weights='uniform')\n",
    "uni_knr.fit(x_train, y_train)\n",
    "uni_knr_y_predict = uni_knr.predict(x_test)\n",
    "\n",
    "#根据距离的加权回归\n",
    "dis_knr = KNeighborsRegressor(weights='distance')\n",
    "dis_knr.fit(x_train, y_train)\n",
    "dis_knr_y_predict = dis_knr.predict(x_test)"
   ]
  },
  {
   "cell_type": "code",
   "execution_count": 5,
   "metadata": {},
   "outputs": [
    {
     "name": "stdout",
     "output_type": "stream",
     "text": [
      "uni_knr's accuracy: 0.693676533978\n",
      "dis_knr's accuracy: 0.722319360622\n"
     ]
    }
   ],
   "source": [
    "# 模型得分\n",
    "print \"uni_knr's accuracy:\", uni_knr.score(x_test, y_test)\n",
    "print \"dis_knr's accuracy:\", dis_knr.score(x_test, y_test)"
   ]
  },
  {
   "cell_type": "markdown",
   "metadata": {},
   "source": [
    "**特点分析：**k近邻回归跟k近邻分类一样，属于无参数模型，同样没有参数训练的过程。实验表明，采用k近邻加权平均的回归策略可以获得更高的模型性能。"
   ]
  }
 ],
 "metadata": {
  "kernelspec": {
   "display_name": "Python 2",
   "language": "python",
   "name": "python2"
  },
  "language_info": {
   "codemirror_mode": {
    "name": "ipython",
    "version": 2
   },
   "file_extension": ".py",
   "mimetype": "text/x-python",
   "name": "python",
   "nbconvert_exporter": "python",
   "pygments_lexer": "ipython2",
   "version": "2.7.13"
  }
 },
 "nbformat": 4,
 "nbformat_minor": 2
}
