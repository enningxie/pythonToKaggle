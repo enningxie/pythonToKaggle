{
 "cells": [
  {
   "cell_type": "markdown",
   "metadata": {},
   "source": [
    "# 集成模型（分类）"
   ]
  },
  {
   "cell_type": "markdown",
   "metadata": {},
   "source": [
    "集成模型对泰坦尼克数据集进行分类，这里给出了单一的决策树，随机森林分类器，梯度提升决策树模型。"
   ]
  },
  {
   "cell_type": "code",
   "execution_count": 4,
   "metadata": {},
   "outputs": [],
   "source": [
    "# 对数据集进行处理\n",
    "import pandas as pd\n",
    "titanic = pd.read_csv(\"http://biostat.mc.vanderbilt.edu/wiki/pub/Main/DataSets/titanic.txt\")\n",
    "\n",
    "x = titanic[['pclass', 'age', 'sex']]\n",
    "y = titanic['survived']\n",
    "x['age'].fillna(x['age'].mean(), inplace=True)\n",
    "\n",
    "# 处理非数值型的数据\n",
    "from sklearn.feature_extraction import DictVectorizer\n",
    "dv = DictVectorizer(sparse=False)\n",
    "x_ = dv.fit_transform(x.to_dict(orient='record'))"
   ]
  },
  {
   "cell_type": "code",
   "execution_count": 5,
   "metadata": {
    "collapsed": true
   },
   "outputs": [],
   "source": [
    "# 划分测试集/训练集\n",
    "from sklearn.cross_validation import train_test_split\n",
    "x_train, x_test, y_train, y_test = train_test_split(x_, y, test_size=0.25, random_state=33)"
   ]
  },
  {
   "cell_type": "code",
   "execution_count": 6,
   "metadata": {},
   "outputs": [],
   "source": [
    "from sklearn.tree import DecisionTreeClassifier\n",
    "from sklearn.ensemble import RandomForestClassifier\n",
    "from sklearn.ensemble import GradientBoostingClassifier\n",
    "\n",
    "dtc = DecisionTreeClassifier()\n",
    "dtc.fit(x_train, y_train)\n",
    "y_dtc_predict = dtc.predict(x_test)\n",
    "\n",
    "rfc = RandomForestClassifier()\n",
    "rfc.fit(x_train, y_train)\n",
    "y_rfc_predict = rfc.predict(x_test)\n",
    "\n",
    "gbc = GradientBoostingClassifier()\n",
    "gbc.fit(x_train, y_train)\n",
    "y_gbc_predict = gbc.predict(x_test)"
   ]
  },
  {
   "cell_type": "code",
   "execution_count": 8,
   "metadata": {},
   "outputs": [
    {
     "name": "stdout",
     "output_type": "stream",
     "text": [
      "DecisionTreeClassifier's accuracy: 0.781155015198\n",
      "             precision    recall  f1-score   support\n",
      "\n",
      "      deied       0.78      0.91      0.84       202\n",
      "   survived       0.80      0.58      0.67       127\n",
      "\n",
      "avg / total       0.78      0.78      0.77       329\n",
      "\n",
      "RandomForestClassifier's accuracy: 0.793313069909\n",
      "             precision    recall  f1-score   support\n",
      "\n",
      "      deied       0.79      0.90      0.84       202\n",
      "   survived       0.80      0.62      0.70       127\n",
      "\n",
      "avg / total       0.79      0.79      0.79       329\n",
      "\n",
      "GradientBoostingClassifier's accuracy: 0.790273556231\n",
      "             precision    recall  f1-score   support\n",
      "\n",
      "      deied       0.78      0.92      0.84       202\n",
      "   survived       0.82      0.58      0.68       127\n",
      "\n",
      "avg / total       0.80      0.79      0.78       329\n",
      "\n"
     ]
    }
   ],
   "source": [
    "# 性能比较\n",
    "from sklearn.metrics import classification_report\n",
    "print \"DecisionTreeClassifier's accuracy:\", dtc.score(x_test, y_test)\n",
    "print classification_report(y_test, y_dtc_predict, target_names=['deied', 'survived'])\n",
    "\n",
    "print \"RandomForestClassifier's accuracy:\", rfc.score(x_test, y_test)\n",
    "print classification_report(y_test, y_rfc_predict, target_names=['deied', 'survived'])\n",
    "\n",
    "print \"GradientBoostingClassifier's accuracy:\", gbc.score(x_test, y_test)\n",
    "print classification_report(y_test, y_gbc_predict, target_names=['deied', 'survived'])"
   ]
  },
  {
   "cell_type": "markdown",
   "metadata": {},
   "source": [
    "**特点分析：**集成模型可以说是实战中最常见的，相比于一些其它单一的学习模型，集成模型可以整合多种模型，或者多次就一种类型的模型进行建模。由于模型参数估计的过程中受到概率的影响，所以具有一定的不确定性；因此，集成模型虽然在训练过程中要耗费更多的时间，但是得到的综合模型往往具有更高的表现性能和更好的稳定性。"
   ]
  }
 ],
 "metadata": {
  "kernelspec": {
   "display_name": "Python 2",
   "language": "python",
   "name": "python2"
  },
  "language_info": {
   "codemirror_mode": {
    "name": "ipython",
    "version": 2
   },
   "file_extension": ".py",
   "mimetype": "text/x-python",
   "name": "python",
   "nbconvert_exporter": "python",
   "pygments_lexer": "ipython2",
   "version": "2.7.13"
  }
 },
 "nbformat": 4,
 "nbformat_minor": 2
}
