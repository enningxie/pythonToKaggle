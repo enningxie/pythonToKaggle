{
 "cells": [
  {
   "cell_type": "markdown",
   "metadata": {},
   "source": [
    "# 特征筛选"
   ]
  },
  {
   "cell_type": "markdown",
   "metadata": {},
   "source": [
    "冗余的特征虽然不会影响到模型的性能。不过却使CPU做了无用功。主成分分析（PCA）主要用于去除多余的线性相关的特征组合，原因在于这些冗余的特征组合并不会对模型训练有更多贡献。而不良特征自然会降低模型的精度。"
   ]
  },
  {
   "cell_type": "markdown",
   "metadata": {},
   "source": [
    "特征筛选与PCA这类通过选择主成分对特征进行重建的方法略有区别：对于PCA而言，我们经常无法解释重建后的特征；但是特征筛选不存在对特征值的修改，而更加侧重于寻找那些对模型的性能提升较大的少量特征。"
   ]
  },
  {
   "cell_type": "code",
   "execution_count": 1,
   "metadata": {
    "collapsed": true
   },
   "outputs": [],
   "source": [
    "# 本实验中，使用的数据集是Titanic数据集，这次通过特征筛选来寻找最佳的特征组合，并达到提高预测准确性的目标\n",
    "import pandas as pd\n",
    "# 从互联网读取titanic数据\n",
    "titanic = pd.read_csv(\"http://biostat.mc.vanderbilt.edu/wiki/pub/Main/DataSets/titanic.txt\")"
   ]
  },
  {
   "cell_type": "code",
   "execution_count": 11,
   "metadata": {},
   "outputs": [
    {
     "name": "stdout",
     "output_type": "stream",
     "text": [
      "   row.names pclass  survived  \\\n",
      "0          1    1st         1   \n",
      "1          2    1st         0   \n",
      "2          3    1st         0   \n",
      "3          4    1st         0   \n",
      "4          5    1st         1   \n",
      "\n",
      "                                              name      age     embarked  \\\n",
      "0                     Allen, Miss Elisabeth Walton  29.0000  Southampton   \n",
      "1                      Allison, Miss Helen Loraine   2.0000  Southampton   \n",
      "2              Allison, Mr Hudson Joshua Creighton  30.0000  Southampton   \n",
      "3  Allison, Mrs Hudson J.C. (Bessie Waldo Daniels)  25.0000  Southampton   \n",
      "4                    Allison, Master Hudson Trevor   0.9167  Southampton   \n",
      "\n",
      "                         home.dest room      ticket   boat     sex  \n",
      "0                     St Louis, MO  B-5  24160 L221      2  female  \n",
      "1  Montreal, PQ / Chesterville, ON  C26         NaN    NaN  female  \n",
      "2  Montreal, PQ / Chesterville, ON  C26         NaN  (135)    male  \n",
      "3  Montreal, PQ / Chesterville, ON  C26         NaN    NaN  female  \n",
      "4  Montreal, PQ / Chesterville, ON  C22         NaN     11    male  \n"
     ]
    }
   ],
   "source": [
    "print(titanic.head())"
   ]
  },
  {
   "cell_type": "code",
   "execution_count": 6,
   "metadata": {
    "collapsed": true
   },
   "outputs": [],
   "source": [
    "# 分离数据特征与预测目标\n",
    "y = titanic['survived']\n",
    "x = titanic.drop(['row.names', 'name', 'survived'], axis=1)\n",
    "\n",
    "# 对缺失数据进行填充\n",
    "x['age'].fillna(x['age'].mean(), inplace=True)\n",
    "x.fillna('UNKNOWN', inplace=True)"
   ]
  },
  {
   "cell_type": "code",
   "execution_count": 19,
   "metadata": {
    "collapsed": true
   },
   "outputs": [],
   "source": [
    "# 分割数据集\n",
    "from sklearn.model_selection import train_test_split\n",
    "x_train, x_test, y_train, y_test = train_test_split(x, y, test_size=0.25, random_state=33)"
   ]
  },
  {
   "cell_type": "code",
   "execution_count": 20,
   "metadata": {},
   "outputs": [
    {
     "name": "stdout",
     "output_type": "stream",
     "text": [
      "474\n"
     ]
    }
   ],
   "source": [
    "# 类别特征的向量化\n",
    "from sklearn.feature_extraction import DictVectorizer\n",
    "vec = DictVectorizer()\n",
    "x_train = vec.fit_transform(x_train.to_dict(orient='record'))\n",
    "x_test = vec.transform(x_test.to_dict(orient='record'))\n",
    "print(len(vec.feature_names_))"
   ]
  },
  {
   "cell_type": "code",
   "execution_count": 21,
   "metadata": {},
   "outputs": [
    {
     "data": {
      "text/plain": [
       "0.82370820668693012"
      ]
     },
     "execution_count": 21,
     "metadata": {},
     "output_type": "execute_result"
    }
   ],
   "source": [
    "# 使用决策树模型依靠所有特征进行预测，并作性能评估\n",
    "from sklearn.tree import DecisionTreeClassifier\n",
    "dt = DecisionTreeClassifier(criterion='entropy')\n",
    "dt.fit(x_train, y_train)\n",
    "dt.score(x_test, y_test)"
   ]
  },
  {
   "cell_type": "code",
   "execution_count": 22,
   "metadata": {},
   "outputs": [
    {
     "data": {
      "text/plain": [
       "0.82370820668693012"
      ]
     },
     "execution_count": 22,
     "metadata": {},
     "output_type": "execute_result"
    }
   ],
   "source": [
    "# 特征筛选开始\n",
    "from sklearn import feature_selection\n",
    "# 筛选前20%的特征，使用相同的决策树模型进行预测，并且评估性能\n",
    "fs = feature_selection.SelectPercentile(feature_selection.chi2, percentile=20)\n",
    "x_train_fs = fs.fit_transform(x_train, y_train)\n",
    "dt.fit(x_train_fs, y_train)\n",
    "x_test_fs = fs.transform(x_test)\n",
    "dt.score(x_test_fs, y_test)"
   ]
  },
  {
   "cell_type": "code",
   "execution_count": 24,
   "metadata": {},
   "outputs": [
    {
     "name": "stdout",
     "output_type": "stream",
     "text": [
      "[ 0.85063904  0.85673057  0.87501546  0.88622964  0.87099567  0.86690373\n",
      "  0.87101629  0.86489384  0.86896516  0.86998557  0.86897547  0.86894455\n",
      "  0.86184292  0.86895485  0.86794475  0.86588332  0.86689342  0.86993403\n",
      "  0.86385281  0.86386312  0.8608019   0.8597918   0.86590394  0.86490414\n",
      "  0.86589363  0.86794475  0.87300557  0.87096475  0.86996496  0.86792414\n",
      "  0.86894455  0.86589363  0.87199546  0.86892393  0.87095444  0.86892393\n",
      "  0.86690373  0.87199546  0.86893424  0.86894455  0.87098536  0.86586271\n",
      "  0.86283241  0.86895485  0.86387343  0.86693465  0.8598021   0.86183261\n",
      "  0.85776129  0.8608122 ]\n",
      "7\n"
     ]
    }
   ],
   "source": [
    "# 通过交叉验证的方法，按照固定间隔的百分比筛选特征，并作图展示性能随特征筛选比例的变化\n",
    "from sklearn.cross_validation import cross_val_score\n",
    "import numpy as np\n",
    "percentiles = range(1, 100, 2)\n",
    "results = []\n",
    "\n",
    "for i in percentiles:\n",
    "    fs = feature_selection.SelectPercentile(feature_selection.chi2, percentile=i)\n",
    "    x_train_fs = fs.fit_transform(x_train, y_train)\n",
    "    scores = cross_val_score(dt, x_train_fs, y_train, cv=5)\n",
    "    results = np.append(results, scores.mean())\n",
    "    \n",
    "print(results)\n",
    "\n",
    "# 找到体现最佳性能的特征筛选的百分比\n",
    "opt = np.where(results==results.max())[0]\n",
    "print(percentiles[int(opt)])"
   ]
  },
  {
   "cell_type": "code",
   "execution_count": 25,
   "metadata": {},
   "outputs": [
    {
     "data": {
      "image/png": "[encoded data removed]",
      "text/plain": [
       "<matplotlib.figure.Figure at 0x2472c3e8668>"
      ]
     },
     "metadata": {},
     "output_type": "display_data"
    },
    {
     "data": {
      "text/plain": [
       "0.85410334346504557"
      ]
     },
     "execution_count": 25,
     "metadata": {},
     "output_type": "execute_result"
    }
   ],
   "source": [
    "import pylab as pl\n",
    "pl.plot(percentiles, results)\n",
    "pl.xlabel('percentiles of features')\n",
    "pl.ylabel('accuracy')\n",
    "pl.show()\n",
    "\n",
    "# 使用最佳筛选后的特征，利用相同配置的模型在测试集上进行性能评估\n",
    "from sklearn import feature_selection\n",
    "fs = feature_selection.SelectPercentile(feature_selection.chi2, percentile=7)\n",
    "x_train_fs = fs.fit_transform(x_train, y_train)\n",
    "dt.fit(x_train_fs, y_train)\n",
    "x_test_fs = fs.transform(x_test)\n",
    "dt.score(x_test_fs, y_test)"
   ]
  },
  {
   "cell_type": "markdown",
   "metadata": {},
   "source": [
    "经过特征筛选后的数据集，对模型性能提升效果更好。"
   ]
  }
 ],
 "metadata": {
  "kernelspec": {
   "display_name": "Python 3",
   "language": "python",
   "name": "python3"
  },
  "language_info": {
   "codemirror_mode": {
    "name": "ipython",
    "version": 3
   },
   "file_extension": ".py",
   "mimetype": "text/x-python",
   "name": "python",
   "nbconvert_exporter": "python",
   "pygments_lexer": "ipython3",
   "version": "3.5.3"
  }
 },
 "nbformat": 4,
 "nbformat_minor": 2
}
