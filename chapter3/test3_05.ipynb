{
 "cells": [
  {
   "cell_type": "markdown",
   "metadata": {},
   "source": [
    "# 流行库/模型实践"
   ]
  },
  {
   "cell_type": "markdown",
   "metadata": {},
   "source": [
    "## 自然语言处理包（NLTK）"
   ]
  },
  {
   "cell_type": "markdown",
   "metadata": {},
   "source": [
    "## XGBoost 模型"
   ]
  },
  {
   "cell_type": "markdown",
   "metadata": {},
   "source": [
    "提升（Boosting）分类器，属于集成学习模型，基本思想是把成千上万个分类准确率较低的树模型组合起来，成为一个准确率很高的模型。这个模型的特点在于不断迭代，每次迭代就生成一颗新的树。对于如何在每一步生成合理的树，大家提出了很多的方法，比如我们在集成（分类）模型中提到的梯度提升树（Gradient Tree Boosting）。它在生成每一颗树的时候采用梯度下降的思想，以之前生成的所有决策树为基础，向着最小化给定目标函数的方向再进一步。  \n",
    "XGBoost最大的特点在于能自动利用cpu的多线程进行并行。"
   ]
  },
  {
   "cell_type": "code",
   "execution_count": 5,
   "metadata": {
    "collapsed": true
   },
   "outputs": [],
   "source": [
    "# 使用XGBoost模型，根据titanic的乘客数据上进行生还者预测\n",
    "import pandas as pd\n",
    "titanic = pd.read_csv(\"http://biostat.mc.vanderbilt.edu/wiki/pub/Main/DataSets/titanic.txt\")\n",
    "\n",
    "# 选取pclass/age以及sex作为训练特征\n",
    "x = titanic[['pclass', 'age', 'sex']]\n",
    "y = titanic['survived']"
   ]
  },
  {
   "cell_type": "code",
   "execution_count": 7,
   "metadata": {
    "collapsed": true
   },
   "outputs": [],
   "source": [
    "# 对缺失的数据进行处理\n",
    "x['age'].fillna(x['age'].mean())\n",
    "\n",
    "# 数据集分割\n",
    "from sklearn.model_selection import train_test_split\n",
    "x_train, x_test, y_train, y_test = train_test_split(x, y, test_size=0.25, random_state=33)"
   ]
  },
  {
   "cell_type": "code",
   "execution_count": 8,
   "metadata": {
    "collapsed": true
   },
   "outputs": [],
   "source": [
    "from sklearn.feature_extraction import DictVectorizer\n",
    "vec = DictVectorizer(sparse=False)"
   ]
  },
  {
   "cell_type": "code",
   "execution_count": 9,
   "metadata": {
    "collapsed": true
   },
   "outputs": [],
   "source": [
    "# 对原数据进行处理\n",
    "x_train = vec.fit_transform(x_train.to_dict(orient='record'))\n",
    "x_test = vec.transform(x_test.to_dict(orient='record'))"
   ]
  },
  {
   "cell_type": "code",
   "execution_count": 10,
   "metadata": {},
   "outputs": [
    {
     "name": "stdout",
     "output_type": "stream",
     "text": [
      "0.781155015198\n"
     ]
    }
   ],
   "source": [
    "# 采用默认配置的随机森林分类器对测试集进行预测\n",
    "from sklearn.ensemble import RandomForestClassifier\n",
    "rfc = RandomForestClassifier()\n",
    "rfc.fit(x_train, y_train)\n",
    "print(rfc.score(x_test, y_test))"
   ]
  },
  {
   "cell_type": "code",
   "execution_count": 11,
   "metadata": {},
   "outputs": [
    {
     "data": {
      "text/plain": [
       "XGBClassifier(base_score=0.5, colsample_bylevel=1, colsample_bytree=1,\n",
       "       gamma=0, learning_rate=0.1, max_delta_step=0, max_depth=3,\n",
       "       min_child_weight=1, missing=None, n_estimators=100, nthread=-1,\n",
       "       objective='binary:logistic', reg_alpha=0, reg_lambda=1,\n",
       "       scale_pos_weight=1, seed=0, silent=True, subsample=1)"
      ]
     },
     "execution_count": 11,
     "metadata": {},
     "output_type": "execute_result"
    }
   ],
   "source": [
    "# 采用默认配置的XGBoost模型对相同的测试集进行预测\n",
    "from xgboost import XGBClassifier\n",
    "xgbc = XGBClassifier()\n",
    "xgbc.fit(x_train, y_train)"
   ]
  },
  {
   "cell_type": "code",
   "execution_count": 12,
   "metadata": {},
   "outputs": [
    {
     "name": "stdout",
     "output_type": "stream",
     "text": [
      "0.787234042553\n"
     ]
    }
   ],
   "source": [
    "print(xgbc.score(x_test, y_test))"
   ]
  },
  {
   "cell_type": "markdown",
   "metadata": {},
   "source": [
    "XGBoost之所以这么有名，更是因为该模型在多项数据分析竞赛中帮助选手取得名次。"
   ]
  },
  {
   "cell_type": "markdown",
   "metadata": {},
   "source": [
    "## Tensorflow框架"
   ]
  },
  {
   "cell_type": "markdown",
   "metadata": {
    "collapsed": true
   },
   "source": [
    "Tensorflow是一个完整的编码系统"
   ]
  },
  {
   "cell_type": "markdown",
   "metadata": {},
   "source": [
    "Tensorflow使用图（Graph）来表示计算任务；使用会话（Session）来执行图。"
   ]
  },
  {
   "cell_type": "code",
   "execution_count": 1,
   "metadata": {},
   "outputs": [
    {
     "name": "stdout",
     "output_type": "stream",
     "text": [
      "b'Hello Google Tensorflow!'\n"
     ]
    }
   ],
   "source": [
    "# 使用Tensorflow输出一句话\n",
    "import tensorflow as tf\n",
    "import numpy as np\n",
    "# 初始化一个Tensorflow的常量\n",
    "greating = tf.constant('Hello Google Tensorflow!')\n",
    "# 启动一个会话\n",
    "sess = tf.Session()\n",
    "# 用会话执行greeting计算模块\n",
    "result = sess.run(greating)\n",
    "print(result)\n",
    "# 关闭会话\n",
    "sess.close()"
   ]
  },
  {
   "cell_type": "code",
   "execution_count": 2,
   "metadata": {},
   "outputs": [
    {
     "name": "stdout",
     "output_type": "stream",
     "text": [
      "[[ 14.]]\n"
     ]
    }
   ],
   "source": [
    "# 使用tensorflow完成一次线性函数的计算\n",
    "matrix1 = tf.constant([[3., 3.]])  # 1*2的行向量\n",
    "matrix2 = tf.constant([[2.], [2.]])  # 2*1的列向量\n",
    "\n",
    "product = tf.matmul(matrix1, matrix2)  # 两个向量相乘\n",
    "\n",
    "linear = tf.add(product, tf.constant(2.0))\n",
    "\n",
    "# 直接在会话中执行linear算例，相当于将上面所有的单独算例拼接成流程图来执行\n",
    "with tf.Session() as sess:\n",
    "    result = sess.run(linear)\n",
    "    print(result)"
   ]
  },
  {
   "cell_type": "code",
   "execution_count": 4,
   "metadata": {},
   "outputs": [
    {
     "name": "stdout",
     "output_type": "stream",
     "text": [
      "0 [[ 0.37616724  0.11273295]] [-0.10297316]\n",
      "200 [[ 0.0651051   0.07089093]] [-0.09042189]\n",
      "400 [[ 0.05820862  0.07714812]] [-0.08727959]\n",
      "600 [[ 0.05787529  0.0774192 ]] [-0.08694174]\n",
      "800 [[ 0.05786001  0.07742623]] [-0.08689421]\n"
     ]
    }
   ],
   "source": [
    "# 使用tensorflow自定义一个线性分类器用于良/恶性乳腺癌肿瘤进行预测\n",
    "import pandas as pd\n",
    "\n",
    "# 从本地使用pandas导入数据集\n",
    "train = pd.read_csv(\"../Datasets/Breast-Cancer/breast-cancer-train.csv\")\n",
    "test = pd.read_csv(\"../Datasets/Breast-Cancer/breast-cancer-test.csv\")\n",
    "\n",
    "# 分隔特征与分类目标\n",
    "x_train = np.float32(train[['Clump Thickness', 'Cell Size']].T)\n",
    "y_train = np.float32(train['Type'].T)\n",
    "x_test = np.float32(test[['Clump Thickness', 'Cell Size']].T)\n",
    "y_test = np.float32(test['Type'].T)\n",
    "\n",
    "# 定义一个tensorflow的变量b作为线性模型的截距，同时设置初始值为1.0\n",
    "b = tf.Variable(tf.zeros([1]))\n",
    "\n",
    "# 定义一个tensorflow的变量W作为线性模型的系数，并设置初始值为-1.0至1.0之间均匀分布的随机数\n",
    "w = tf.Variable(tf.random_uniform([1, 2], -1.0, 1.0))\n",
    "\n",
    "# 显式定义这个线性函数\n",
    "y = tf.matmul(w, x_train) + b\n",
    "\n",
    "# 使用tensorflow 中的reduce_mean 取得训练集上均方误差\n",
    "loss = tf.reduce_mean(tf.square(y - y_train))\n",
    "\n",
    "# 使用梯度下降法估计参数w, b并且设置迭代步长为0.01，这个与scikit-learn中的SGDRegressor类似\n",
    "optimizer = tf.train.GradientDescentOptimizer(0.01)\n",
    "\n",
    "# 以最小二乘损失为优化目标\n",
    "train = optimizer.minimize(loss)\n",
    "\n",
    "# 初始化所有变量\n",
    "init = tf.global_variables_initializer()  # 新的初始化方式\n",
    "\n",
    "# 开启tensorflow中的会话\n",
    "sess = tf.Session()\n",
    "\n",
    "# 执行变量初始化操作\n",
    "sess.run(init)\n",
    "\n",
    "# 迭代1000轮次，训练参数\n",
    "for step in range(0, 1000):\n",
    "    sess.run(train)\n",
    "    if step % 200 == 0:\n",
    "        print(step, sess.run(w), sess.run(b))"
   ]
  },
  {
   "cell_type": "code",
   "execution_count": 5,
   "metadata": {},
   "outputs": [
    {
     "data": {
      "image/png": "[encoded data removed]",
      "text/plain": [
       "<matplotlib.figure.Figure at 0x2104143e710>"
      ]
     },
     "metadata": {},
     "output_type": "display_data"
    }
   ],
   "source": [
    "# 准备测试样本\n",
    "test_negative = test.loc[test['Type'] == 0][['Clump Thickness', 'Cell Size']]\n",
    "test_positive = test.loc[test['Type'] == 1][['Clump Thickness', 'Cell Size']]\n",
    "\n",
    "# 以最终更新的参数作图\n",
    "import matplotlib.pyplot as plt\n",
    "plt.scatter(test_negative['Clump Thickness'], test_negative['Cell Size'], marker='o', s=200, c='red')\n",
    "plt.scatter(test_positive['Clump Thickness'], test_positive['Cell Size'], marker='x', s=150, c='green')\n",
    "\n",
    "plt.xlabel('Clump Thickness')\n",
    "plt.ylabel('Cell Size')\n",
    "\n",
    "lx = np.arange(0, 12)\n",
    "\n",
    "# 这里强调一下，我们以0.5作为分界面，计算如下\n",
    "ly = (0.5 - sess.run(b) - lx * sess.run(w)[0][0]) / sess.run(w)[0][1]\n",
    "\n",
    "plt.plot(lx, ly, color='yellow')\n",
    "plt.show()"
   ]
  }
 ],
 "metadata": {
  "kernelspec": {
   "display_name": "Python 3",
   "language": "python",
   "name": "python3"
  },
  "language_info": {
   "codemirror_mode": {
    "name": "ipython",
    "version": 3
   },
   "file_extension": ".py",
   "mimetype": "text/x-python",
   "name": "python",
   "nbconvert_exporter": "python",
   "pygments_lexer": "ipython3",
   "version": "3.5.3"
  }
 },
 "nbformat": 4,
 "nbformat_minor": 2
}
